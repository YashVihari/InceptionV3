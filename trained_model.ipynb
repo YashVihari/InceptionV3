{
  "nbformat": 4,
  "nbformat_minor": 0,
  "metadata": {
    "colab": {
      "name": "celebs.ipynb",
      "version": "0.3.2",
      "provenance": [],
      "collapsed_sections": []
    },
    "kernelspec": {
      "name": "python3",
      "display_name": "Python 3"
    },
    "accelerator": "GPU"
  },
  "cells": [
    {
      "metadata": {
        "id": "fvi0cd1ll3jL",
        "colab_type": "code",
        "colab": {}
      },
      "cell_type": "code",
      "source": [
        "!add-apt-repository -y ppa:alessandro-strada/ppa 2>&1 > /dev/null\n",
        "!apt-get update -qq 2>&1 > /dev/null\n",
        "!apt-get -y install -qq google-drive-ocamlfuse fuse\n",
        "# !wget https://launchpad.net/~alessandro-strada/+archive/ubuntu/google-drive-ocamlfuse-beta/+build/15331130/+files/google-drive-ocamlfuse_0.7.0-0ubuntu1_amd64.deb\n",
        "# !dpkg -i google-drive-ocamlfuse_0.7.0-0ubuntu1_amd64.deb\n",
        "# !apt-get install -f\n",
        "# !apt-get -y install -qq fuse\n",
        "from google.colab import auth\n",
        "auth.authenticate_user()\n",
        "from oauth2client.client import GoogleCredentials\n",
        "creds = GoogleCredentials.get_application_default()\n",
        "import getpass\n",
        "!google-drive-ocamlfuse -headless -id={creds.client_id} -secret={creds.client_secret} < /dev/null 2>&1 | grep URL\n",
        "vcode = getpass.getpass()\n",
        "!echo {vcode} | google-drive-ocamlfuse -headless -id={creds.client_id} -secret={creds.client_secret}"
      ],
      "execution_count": 0,
      "outputs": []
    },
    {
      "metadata": {
        "id": "LniFwT_Zl9ZH",
        "colab_type": "code",
        "colab": {}
      },
      "cell_type": "code",
      "source": [
        "# Create a directory and mount Google Drive onto the colab workspace using that directory.\n",
        "\n",
        "!mkdir -p drive\n",
        "\n",
        "!google-drive-ocamlfuse drive\n",
        "!pip install tables\n",
        "!apt-get install -y -qq software-properties-common python-software-properties module-init-tools\n"
      ],
      "execution_count": 0,
      "outputs": []
    },
    {
      "metadata": {
        "id": "6JgephI3tim-",
        "colab_type": "text"
      },
      "cell_type": "markdown",
      "source": [
        "The above portion is to mount **Google Drive** onto **Google Colab**\n"
      ]
    },
    {
      "metadata": {
        "id": "ueisjIfHmiJ7",
        "colab_type": "code",
        "outputId": "a15b57bf-8c23-450c-c214-a2deb7f8e0c0",
        "colab": {
          "base_uri": "https://localhost:8080/",
          "height": 340
        }
      },
      "cell_type": "code",
      "source": [
        "!ls ./drive/Colab\\ Notebooks/"
      ],
      "execution_count": 4,
      "outputs": [
        {
          "output_type": "stream",
          "text": [
            " amazon\t\t\t  mobileNet.ipynb\n",
            " AmazonFood.ipynb\t  NaiveBayes.ipynb\n",
            " BloodCell.ipynb\t  new.ipynb\n",
            " blood-cells\t\t  nuclei\n",
            " BoundingBoxes_info.csv   nuclei.ipynb\n",
            "'Cancer Diag.ipynb'\t  PCA.ipynb\n",
            " cartisan.ipynb\t\t  PersonalizedCancerDiagnosis.ipynb\n",
            " Celeb.ipynb\t\t 'Problem Statement.pdf'\n",
            " celebs.ipynb\t\t  Project.ipynb\n",
            " DL_info.csv\t\t  pydrive.ipynb\n",
            " drive\t\t\t  pytorch_imp.ipynb\n",
            " Final\t\t\t  social\n",
            " keras_mnist.ipynb\t  social_influence.ipynb\n",
            " kfold.ipynb\t\t  Template.ipynb\n",
            " knn.ipynb\t\t  Test_Celeb_Data.csv\n",
            " KNN.ipynb\t\t  Untitled\n",
            " Mask_RCNN\t\t  Untitled3.ipynb\n",
            " MLP.ipynb\t\t  xceptionNet.ipynb\n",
            " mnist.csv\n"
          ],
          "name": "stdout"
        }
      ]
    },
    {
      "metadata": {
        "id": "gI7y2nBimlxW",
        "colab_type": "code",
        "colab": {}
      },
      "cell_type": "code",
      "source": [
        "import pandas as pd\n",
        "import numpy as np\n",
        "import cv2\n",
        "import os\n",
        "from matplotlib import pyplot as plt\n",
        "from glob import glob"
      ],
      "execution_count": 0,
      "outputs": []
    },
    {
      "metadata": {
        "id": "mmdCz2dN1xvx",
        "colab_type": "code",
        "outputId": "1243449e-130d-42b4-bd77-8d9d85f2a1e9",
        "colab": {
          "base_uri": "https://localhost:8080/",
          "height": 68
        }
      },
      "cell_type": "code",
      "source": [
        "!ls ./drive/Colab\\ Notebooks/Final/data/"
      ],
      "execution_count": 14,
      "outputs": [
        {
          "output_type": "stream",
          "text": [
            "BoundingBoxes_info.csv\tTest_Data_Indexes.csv  weights_best.hdf5\n",
            "DriveUploader\t\ttrain\n",
            "Test_Celeb_Images\tTrain_Data.csv\n"
          ],
          "name": "stdout"
        }
      ]
    },
    {
      "metadata": {
        "id": "2EFczowmuknw",
        "colab_type": "code",
        "outputId": "da237f4c-8aee-49ba-8e4f-cdad563191a8",
        "colab": {
          "base_uri": "https://localhost:8080/",
          "height": 208
        }
      },
      "cell_type": "code",
      "source": [
        "# Read the .csv file containing training data\n",
        "train_df = pd.read_csv(\"./drive/Colab Notebooks/Final/data/Train_Data.csv\",index_col = False)   # Read the .csv file containing training data\n",
        "train_df.head(3)"
      ],
      "execution_count": 15,
      "outputs": [
        {
          "output_type": "execute_result",
          "data": {
            "text/html": [
              "<div>\n",
              "<style scoped>\n",
              "    .dataframe tbody tr th:only-of-type {\n",
              "        vertical-align: middle;\n",
              "    }\n",
              "\n",
              "    .dataframe tbody tr th {\n",
              "        vertical-align: top;\n",
              "    }\n",
              "\n",
              "    .dataframe thead th {\n",
              "        text-align: right;\n",
              "    }\n",
              "</style>\n",
              "<table border=\"1\" class=\"dataframe\">\n",
              "  <thead>\n",
              "    <tr style=\"text-align: right;\">\n",
              "      <th></th>\n",
              "      <th>Unnamed: 0</th>\n",
              "      <th>image_id</th>\n",
              "      <th>Arched_Eyebrows</th>\n",
              "      <th>Bags_Under_Eyes</th>\n",
              "      <th>Bangs</th>\n",
              "      <th>Big_Lips</th>\n",
              "      <th>Big_Nose</th>\n",
              "      <th>Black_Hair</th>\n",
              "      <th>Blond_Hair</th>\n",
              "      <th>Bushy_Eyebrows</th>\n",
              "      <th>...</th>\n",
              "      <th>Wearing_Earrings</th>\n",
              "      <th>Wearing_Lipstick</th>\n",
              "      <th>MF_1</th>\n",
              "      <th>MF_2</th>\n",
              "      <th>MF_3</th>\n",
              "      <th>MF_4</th>\n",
              "      <th>MF_5</th>\n",
              "      <th>MF_6</th>\n",
              "      <th>MF_7</th>\n",
              "      <th>MF_8</th>\n",
              "    </tr>\n",
              "  </thead>\n",
              "  <tbody>\n",
              "    <tr>\n",
              "      <th>0</th>\n",
              "      <td>0</td>\n",
              "      <td>069568.jpg</td>\n",
              "      <td>0</td>\n",
              "      <td>0</td>\n",
              "      <td>0</td>\n",
              "      <td>0</td>\n",
              "      <td>1</td>\n",
              "      <td>0</td>\n",
              "      <td>0</td>\n",
              "      <td>0</td>\n",
              "      <td>...</td>\n",
              "      <td>0</td>\n",
              "      <td>0</td>\n",
              "      <td>0</td>\n",
              "      <td>1</td>\n",
              "      <td>0</td>\n",
              "      <td>0</td>\n",
              "      <td>0</td>\n",
              "      <td>0</td>\n",
              "      <td>0</td>\n",
              "      <td>0</td>\n",
              "    </tr>\n",
              "    <tr>\n",
              "      <th>1</th>\n",
              "      <td>1</td>\n",
              "      <td>117493.jpg</td>\n",
              "      <td>0</td>\n",
              "      <td>0</td>\n",
              "      <td>0</td>\n",
              "      <td>0</td>\n",
              "      <td>0</td>\n",
              "      <td>0</td>\n",
              "      <td>0</td>\n",
              "      <td>1</td>\n",
              "      <td>...</td>\n",
              "      <td>0</td>\n",
              "      <td>0</td>\n",
              "      <td>0</td>\n",
              "      <td>1</td>\n",
              "      <td>1</td>\n",
              "      <td>0</td>\n",
              "      <td>1</td>\n",
              "      <td>0</td>\n",
              "      <td>0</td>\n",
              "      <td>0</td>\n",
              "    </tr>\n",
              "    <tr>\n",
              "      <th>2</th>\n",
              "      <td>2</td>\n",
              "      <td>096568.jpg</td>\n",
              "      <td>1</td>\n",
              "      <td>0</td>\n",
              "      <td>1</td>\n",
              "      <td>0</td>\n",
              "      <td>0</td>\n",
              "      <td>1</td>\n",
              "      <td>0</td>\n",
              "      <td>0</td>\n",
              "      <td>...</td>\n",
              "      <td>1</td>\n",
              "      <td>1</td>\n",
              "      <td>1</td>\n",
              "      <td>1</td>\n",
              "      <td>0</td>\n",
              "      <td>0</td>\n",
              "      <td>0</td>\n",
              "      <td>1</td>\n",
              "      <td>1</td>\n",
              "      <td>0</td>\n",
              "    </tr>\n",
              "  </tbody>\n",
              "</table>\n",
              "<p>3 rows × 24 columns</p>\n",
              "</div>"
            ],
            "text/plain": [
              "   Unnamed: 0    image_id  Arched_Eyebrows  Bags_Under_Eyes  Bangs  Big_Lips  \\\n",
              "0           0  069568.jpg                0                0      0         0   \n",
              "1           1  117493.jpg                0                0      0         0   \n",
              "2           2  096568.jpg                1                0      1         0   \n",
              "\n",
              "   Big_Nose  Black_Hair  Blond_Hair  Bushy_Eyebrows  ...   Wearing_Earrings  \\\n",
              "0         1           0           0               0  ...                  0   \n",
              "1         0           0           0               1  ...                  0   \n",
              "2         0           1           0               0  ...                  1   \n",
              "\n",
              "   Wearing_Lipstick  MF_1  MF_2  MF_3  MF_4  MF_5  MF_6  MF_7  MF_8  \n",
              "0                 0     0     1     0     0     0     0     0     0  \n",
              "1                 0     0     1     1     0     1     0     0     0  \n",
              "2                 1     1     1     0     0     0     1     1     0  \n",
              "\n",
              "[3 rows x 24 columns]"
            ]
          },
          "metadata": {
            "tags": []
          },
          "execution_count": 15
        }
      ]
    },
    {
      "metadata": {
        "id": "FvLTsnMiun_7",
        "colab_type": "code",
        "outputId": "fbe7df09-6e3b-46c6-c671-a942ff2d61bc",
        "colab": {
          "base_uri": "https://localhost:8080/",
          "height": 191
        }
      },
      "cell_type": "code",
      "source": [
        "# Dropping the unnecessary column\n",
        "train_df = train_df.drop(columns = [\"Unnamed: 0\"])     \n",
        "train_df.head(3)"
      ],
      "execution_count": 16,
      "outputs": [
        {
          "output_type": "execute_result",
          "data": {
            "text/html": [
              "<div>\n",
              "<style scoped>\n",
              "    .dataframe tbody tr th:only-of-type {\n",
              "        vertical-align: middle;\n",
              "    }\n",
              "\n",
              "    .dataframe tbody tr th {\n",
              "        vertical-align: top;\n",
              "    }\n",
              "\n",
              "    .dataframe thead th {\n",
              "        text-align: right;\n",
              "    }\n",
              "</style>\n",
              "<table border=\"1\" class=\"dataframe\">\n",
              "  <thead>\n",
              "    <tr style=\"text-align: right;\">\n",
              "      <th></th>\n",
              "      <th>image_id</th>\n",
              "      <th>Arched_Eyebrows</th>\n",
              "      <th>Bags_Under_Eyes</th>\n",
              "      <th>Bangs</th>\n",
              "      <th>Big_Lips</th>\n",
              "      <th>Big_Nose</th>\n",
              "      <th>Black_Hair</th>\n",
              "      <th>Blond_Hair</th>\n",
              "      <th>Bushy_Eyebrows</th>\n",
              "      <th>Male</th>\n",
              "      <th>...</th>\n",
              "      <th>Wearing_Earrings</th>\n",
              "      <th>Wearing_Lipstick</th>\n",
              "      <th>MF_1</th>\n",
              "      <th>MF_2</th>\n",
              "      <th>MF_3</th>\n",
              "      <th>MF_4</th>\n",
              "      <th>MF_5</th>\n",
              "      <th>MF_6</th>\n",
              "      <th>MF_7</th>\n",
              "      <th>MF_8</th>\n",
              "    </tr>\n",
              "  </thead>\n",
              "  <tbody>\n",
              "    <tr>\n",
              "      <th>0</th>\n",
              "      <td>069568.jpg</td>\n",
              "      <td>0</td>\n",
              "      <td>0</td>\n",
              "      <td>0</td>\n",
              "      <td>0</td>\n",
              "      <td>1</td>\n",
              "      <td>0</td>\n",
              "      <td>0</td>\n",
              "      <td>0</td>\n",
              "      <td>1</td>\n",
              "      <td>...</td>\n",
              "      <td>0</td>\n",
              "      <td>0</td>\n",
              "      <td>0</td>\n",
              "      <td>1</td>\n",
              "      <td>0</td>\n",
              "      <td>0</td>\n",
              "      <td>0</td>\n",
              "      <td>0</td>\n",
              "      <td>0</td>\n",
              "      <td>0</td>\n",
              "    </tr>\n",
              "    <tr>\n",
              "      <th>1</th>\n",
              "      <td>117493.jpg</td>\n",
              "      <td>0</td>\n",
              "      <td>0</td>\n",
              "      <td>0</td>\n",
              "      <td>0</td>\n",
              "      <td>0</td>\n",
              "      <td>0</td>\n",
              "      <td>0</td>\n",
              "      <td>1</td>\n",
              "      <td>1</td>\n",
              "      <td>...</td>\n",
              "      <td>0</td>\n",
              "      <td>0</td>\n",
              "      <td>0</td>\n",
              "      <td>1</td>\n",
              "      <td>1</td>\n",
              "      <td>0</td>\n",
              "      <td>1</td>\n",
              "      <td>0</td>\n",
              "      <td>0</td>\n",
              "      <td>0</td>\n",
              "    </tr>\n",
              "    <tr>\n",
              "      <th>2</th>\n",
              "      <td>096568.jpg</td>\n",
              "      <td>1</td>\n",
              "      <td>0</td>\n",
              "      <td>1</td>\n",
              "      <td>0</td>\n",
              "      <td>0</td>\n",
              "      <td>1</td>\n",
              "      <td>0</td>\n",
              "      <td>0</td>\n",
              "      <td>0</td>\n",
              "      <td>...</td>\n",
              "      <td>1</td>\n",
              "      <td>1</td>\n",
              "      <td>1</td>\n",
              "      <td>1</td>\n",
              "      <td>0</td>\n",
              "      <td>0</td>\n",
              "      <td>0</td>\n",
              "      <td>1</td>\n",
              "      <td>1</td>\n",
              "      <td>0</td>\n",
              "    </tr>\n",
              "  </tbody>\n",
              "</table>\n",
              "<p>3 rows × 23 columns</p>\n",
              "</div>"
            ],
            "text/plain": [
              "     image_id  Arched_Eyebrows  Bags_Under_Eyes  Bangs  Big_Lips  Big_Nose  \\\n",
              "0  069568.jpg                0                0      0         0         1   \n",
              "1  117493.jpg                0                0      0         0         0   \n",
              "2  096568.jpg                1                0      1         0         0   \n",
              "\n",
              "   Black_Hair  Blond_Hair  Bushy_Eyebrows  Male  ...   Wearing_Earrings  \\\n",
              "0           0           0               0     1  ...                  0   \n",
              "1           0           0               1     1  ...                  0   \n",
              "2           1           0               0     0  ...                  1   \n",
              "\n",
              "   Wearing_Lipstick  MF_1  MF_2  MF_3  MF_4  MF_5  MF_6  MF_7  MF_8  \n",
              "0                 0     0     1     0     0     0     0     0     0  \n",
              "1                 0     0     1     1     0     1     0     0     0  \n",
              "2                 1     1     1     0     0     0     1     1     0  \n",
              "\n",
              "[3 rows x 23 columns]"
            ]
          },
          "metadata": {
            "tags": []
          },
          "execution_count": 16
        }
      ]
    },
    {
      "metadata": {
        "id": "8NTpVdV3un8Y",
        "colab_type": "code",
        "outputId": "64f0f788-c1a1-406f-f964-9666529ca90f",
        "colab": {
          "base_uri": "https://localhost:8080/",
          "height": 142
        }
      },
      "cell_type": "code",
      "source": [
        "# Read the .csv file containing Bounding Boxes data of all both train and test\n",
        "bb = pd.read_csv(\"./drive/Colab Notebooks/Final/data/BoundingBoxes_info.csv\")\n",
        "bb.head(3)"
      ],
      "execution_count": 17,
      "outputs": [
        {
          "output_type": "execute_result",
          "data": {
            "text/html": [
              "<div>\n",
              "<style scoped>\n",
              "    .dataframe tbody tr th:only-of-type {\n",
              "        vertical-align: middle;\n",
              "    }\n",
              "\n",
              "    .dataframe tbody tr th {\n",
              "        vertical-align: top;\n",
              "    }\n",
              "\n",
              "    .dataframe thead th {\n",
              "        text-align: right;\n",
              "    }\n",
              "</style>\n",
              "<table border=\"1\" class=\"dataframe\">\n",
              "  <thead>\n",
              "    <tr style=\"text-align: right;\">\n",
              "      <th></th>\n",
              "      <th>Unnamed: 0</th>\n",
              "      <th>x_1</th>\n",
              "      <th>y_1</th>\n",
              "      <th>width</th>\n",
              "      <th>height</th>\n",
              "    </tr>\n",
              "  </thead>\n",
              "  <tbody>\n",
              "    <tr>\n",
              "      <th>0</th>\n",
              "      <td>069568.jpg</td>\n",
              "      <td>545</td>\n",
              "      <td>141</td>\n",
              "      <td>309</td>\n",
              "      <td>428</td>\n",
              "    </tr>\n",
              "    <tr>\n",
              "      <th>1</th>\n",
              "      <td>117493.jpg</td>\n",
              "      <td>103</td>\n",
              "      <td>2</td>\n",
              "      <td>203</td>\n",
              "      <td>281</td>\n",
              "    </tr>\n",
              "    <tr>\n",
              "      <th>2</th>\n",
              "      <td>096568.jpg</td>\n",
              "      <td>134</td>\n",
              "      <td>84</td>\n",
              "      <td>195</td>\n",
              "      <td>270</td>\n",
              "    </tr>\n",
              "  </tbody>\n",
              "</table>\n",
              "</div>"
            ],
            "text/plain": [
              "   Unnamed: 0  x_1  y_1  width  height\n",
              "0  069568.jpg  545  141    309     428\n",
              "1  117493.jpg  103    2    203     281\n",
              "2  096568.jpg  134   84    195     270"
            ]
          },
          "metadata": {
            "tags": []
          },
          "execution_count": 17
        }
      ]
    },
    {
      "metadata": {
        "id": "-PWJ3WlYun4C",
        "colab_type": "code",
        "outputId": "d15d04bd-6f32-46ea-b3d8-2424f0823927",
        "colab": {
          "base_uri": "https://localhost:8080/",
          "height": 111
        }
      },
      "cell_type": "code",
      "source": [
        "#Changing the column names of Bounding BOxes\n",
        "bb.columns = ['id','x','y','width','height']\n",
        "bb.head(2)"
      ],
      "execution_count": 18,
      "outputs": [
        {
          "output_type": "execute_result",
          "data": {
            "text/html": [
              "<div>\n",
              "<style scoped>\n",
              "    .dataframe tbody tr th:only-of-type {\n",
              "        vertical-align: middle;\n",
              "    }\n",
              "\n",
              "    .dataframe tbody tr th {\n",
              "        vertical-align: top;\n",
              "    }\n",
              "\n",
              "    .dataframe thead th {\n",
              "        text-align: right;\n",
              "    }\n",
              "</style>\n",
              "<table border=\"1\" class=\"dataframe\">\n",
              "  <thead>\n",
              "    <tr style=\"text-align: right;\">\n",
              "      <th></th>\n",
              "      <th>id</th>\n",
              "      <th>x</th>\n",
              "      <th>y</th>\n",
              "      <th>width</th>\n",
              "      <th>height</th>\n",
              "    </tr>\n",
              "  </thead>\n",
              "  <tbody>\n",
              "    <tr>\n",
              "      <th>0</th>\n",
              "      <td>069568.jpg</td>\n",
              "      <td>545</td>\n",
              "      <td>141</td>\n",
              "      <td>309</td>\n",
              "      <td>428</td>\n",
              "    </tr>\n",
              "    <tr>\n",
              "      <th>1</th>\n",
              "      <td>117493.jpg</td>\n",
              "      <td>103</td>\n",
              "      <td>2</td>\n",
              "      <td>203</td>\n",
              "      <td>281</td>\n",
              "    </tr>\n",
              "  </tbody>\n",
              "</table>\n",
              "</div>"
            ],
            "text/plain": [
              "           id    x    y  width  height\n",
              "0  069568.jpg  545  141    309     428\n",
              "1  117493.jpg  103    2    203     281"
            ]
          },
          "metadata": {
            "tags": []
          },
          "execution_count": 18
        }
      ]
    },
    {
      "metadata": {
        "id": "Oc9ER-S7tydN",
        "colab_type": "code",
        "outputId": "ccdb587b-ece2-4d95-d6f7-2b8228a8ed79",
        "colab": {
          "base_uri": "https://localhost:8080/",
          "height": 51
        }
      },
      "cell_type": "code",
      "source": [
        "# Reading all the image file paths \n",
        "%%time\n",
        "imgs = glob(os.path.join('./drive','Train_Celeb_Images','*.jpg'))"
      ],
      "execution_count": 19,
      "outputs": [
        {
          "output_type": "stream",
          "text": [
            "CPU times: user 72.1 ms, sys: 17.3 ms, total: 89.4 ms\n",
            "Wall time: 4min 8s\n"
          ],
          "name": "stdout"
        }
      ]
    },
    {
      "metadata": {
        "id": "P-NcUKVlt18h",
        "colab_type": "code",
        "outputId": "78c79ef6-0475-4319-c272-d119ef3fa297",
        "colab": {
          "base_uri": "https://localhost:8080/",
          "height": 34
        }
      },
      "cell_type": "code",
      "source": [
        "# Total training images \n",
        "len(imgs)"
      ],
      "execution_count": 20,
      "outputs": [
        {
          "output_type": "execute_result",
          "data": {
            "text/plain": [
              "21080"
            ]
          },
          "metadata": {
            "tags": []
          },
          "execution_count": 20
        }
      ]
    },
    {
      "metadata": {
        "id": "9eJ2bbAzMX7m",
        "colab_type": "text"
      },
      "cell_type": "markdown",
      "source": [
        "Train images folder has around 59000 files  and failed many times while trying to upload the entire folder and other ways of obtaining all the data\n",
        "\n",
        "So at maximum I was able to extract 21000 images from the entire because of time and resource constraints\n",
        "\n",
        "and so used them for training"
      ]
    },
    {
      "metadata": {
        "id": "FKsyJuRh6xL4",
        "colab_type": "code",
        "outputId": "f0551357-aaa7-454d-b10c-d20fba9d04ae",
        "colab": {
          "base_uri": "https://localhost:8080/",
          "height": 34
        }
      },
      "cell_type": "code",
      "source": [
        "imgs[15]"
      ],
      "execution_count": 21,
      "outputs": [
        {
          "output_type": "execute_result",
          "data": {
            "text/plain": [
              "'./drive/Train_Celeb_Images/073067.jpg'"
            ]
          },
          "metadata": {
            "tags": []
          },
          "execution_count": 21
        }
      ]
    },
    {
      "metadata": {
        "id": "aZQ6_yTZ64Cu",
        "colab_type": "code",
        "outputId": "ff03ef33-e1df-4cc2-c442-355a2bf3a513",
        "colab": {
          "base_uri": "https://localhost:8080/",
          "height": 367
        }
      },
      "cell_type": "code",
      "source": [
        "# Plotting a sample image\n",
        "\n",
        "img15 = cv2.imread(imgs[1])\n",
        "\n",
        "plt.axis('off')\n",
        "plt.imshow(cv2.cvtColor(img15, cv2.COLOR_BGR2RGB))"
      ],
      "execution_count": 22,
      "outputs": [
        {
          "output_type": "execute_result",
          "data": {
            "text/plain": [
              "<matplotlib.image.AxesImage at 0x7f994248feb8>"
            ]
          },
          "metadata": {
            "tags": []
          },
          "execution_count": 22
        },
        {
          "output_type": "display_data",
          "data": {
            "image/png": "[encoded data removed]",
            "text/plain": [
              "<Figure size 576x396 with 1 Axes>"
            ]
          },
          "metadata": {
            "tags": []
          }
        }
      ]
    },
    {
      "metadata": {
        "id": "Bz6a_ffYxs0q",
        "colab_type": "code",
        "outputId": "3dc69bc1-3e83-46d9-cb66-784b5e2d6b1c",
        "colab": {
          "base_uri": "https://localhost:8080/",
          "height": 367
        }
      },
      "cell_type": "code",
      "source": [
        "# Plotting the bounding boxes for sample image\n",
        "\n",
        "x,y,w,h = 92,46,112,155     # these values are taken from bounding box file manully\n",
        "\n",
        "plt.axis('off')\n",
        "img15 = cv2.cvtColor(img15, cv2.COLOR_BGR2RGB)\n",
        "plt.imshow(cv2.rectangle(img15,(x,y),(x+w,y+h),(0,255,0),2))"
      ],
      "execution_count": 23,
      "outputs": [
        {
          "output_type": "execute_result",
          "data": {
            "text/plain": [
              "<matplotlib.image.AxesImage at 0x7f994241a6a0>"
            ]
          },
          "metadata": {
            "tags": []
          },
          "execution_count": 23
        },
        {
          "output_type": "display_data",
          "data": {
            "image/png": "[encoded data removed]",
            "text/plain": [
              "<Figure size 576x396 with 1 Axes>"
            ]
          },
          "metadata": {
            "tags": []
          }
        }
      ]
    },
    {
      "metadata": {
        "id": "-5bCv5HOBIyC",
        "colab_type": "text"
      },
      "cell_type": "markdown",
      "source": [
        "These Bounding values aren't making any sense so they were ignored"
      ]
    },
    {
      "metadata": {
        "id": "V5ZQ0vzrBEzt",
        "colab_type": "code",
        "colab": {}
      },
      "cell_type": "code",
      "source": [
        "# Coverting numpy array of image locations into array of image files\n",
        "img_lst = []\n",
        "for i in imgs:\n",
        "  img_lst.append(i.split(\"/\")[-1])"
      ],
      "execution_count": 0,
      "outputs": []
    },
    {
      "metadata": {
        "id": "5KcQgZzHBodk",
        "colab_type": "code",
        "outputId": "4e9bc28b-7be3-458f-eac3-76710e5b421b",
        "colab": {
          "base_uri": "https://localhost:8080/",
          "height": 34
        }
      },
      "cell_type": "code",
      "source": [
        "img_lst[4]"
      ],
      "execution_count": 25,
      "outputs": [
        {
          "output_type": "execute_result",
          "data": {
            "text/plain": [
              "'073042.jpg'"
            ]
          },
          "metadata": {
            "tags": []
          },
          "execution_count": 25
        }
      ]
    },
    {
      "metadata": {
        "id": "p55fNRT9BszR",
        "colab_type": "code",
        "colab": {}
      },
      "cell_type": "code",
      "source": [
        "# Checking all the image files that are being used here\n",
        "# are in dataFrame\n",
        "mask = train_df.image_id.apply(lambda x : True if x in img_lst  else False)"
      ],
      "execution_count": 0,
      "outputs": []
    },
    {
      "metadata": {
        "id": "BCKrxZO8CDj2",
        "colab_type": "code",
        "outputId": "487b2fee-d6f4-4acc-de2f-802192de73c7",
        "colab": {
          "base_uri": "https://localhost:8080/",
          "height": 68
        }
      },
      "cell_type": "code",
      "source": [
        "\n",
        "mask.value_counts()"
      ],
      "execution_count": 27,
      "outputs": [
        {
          "output_type": "execute_result",
          "data": {
            "text/plain": [
              "False    37004\n",
              "True     21080\n",
              "Name: image_id, dtype: int64"
            ]
          },
          "metadata": {
            "tags": []
          },
          "execution_count": 27
        }
      ]
    },
    {
      "metadata": {
        "id": "0AvrQ0SPCGMg",
        "colab_type": "code",
        "colab": {}
      },
      "cell_type": "code",
      "source": [
        "# copying the data of only those image id's that we are going \n",
        "#  to use from the dataframe\n",
        "df = train_df[mask]"
      ],
      "execution_count": 0,
      "outputs": []
    },
    {
      "metadata": {
        "id": "U8VPISx9CWDy",
        "colab_type": "code",
        "outputId": "1817f20d-081e-43a2-9f7d-cbf32f424543",
        "colab": {
          "base_uri": "https://localhost:8080/",
          "height": 34
        }
      },
      "cell_type": "code",
      "source": [
        "df.shape"
      ],
      "execution_count": 32,
      "outputs": [
        {
          "output_type": "execute_result",
          "data": {
            "text/plain": [
              "(21080, 23)"
            ]
          },
          "metadata": {
            "tags": []
          },
          "execution_count": 32
        }
      ]
    },
    {
      "metadata": {
        "id": "6L6EDq_GCYMH",
        "colab_type": "code",
        "outputId": "688b6a2d-3722-44d2-9ff3-99d917217493",
        "colab": {
          "base_uri": "https://localhost:8080/",
          "height": 360
        }
      },
      "cell_type": "code",
      "source": [
        "#  Creating a model using Keras\n",
        "import keras\n",
        "from keras.models import Sequential\n",
        "from keras.applications.inception_v3 import InceptionV3\n",
        "from keras.layers import Dense, Flatten\n",
        "\n",
        "# Considered InceptionV3 because of the low number of parameters \n",
        "base_model = InceptionV3(include_top = False, weights=None, input_shape = (128,128,3) )\n",
        "\n",
        "model = Sequential()\n",
        "model.add(base_model)\n",
        "model.add(Flatten())\n",
        "model.add(Dense(256,activation = 'relu'))\n",
        "# model.add(Dense(512,activation = 'relu'))\n",
        "\n",
        "# Sigmoid activation is used because the problem is multi-label classification with binary values\n",
        "model.add(Dense(22,activation = 'sigmoid'))\n",
        "\n",
        "# Because of binary multi labels, binary crossentropy loss is considered\n",
        "model.compile(loss= keras.losses.binary_crossentropy,\n",
        "             optimizer = keras.optimizers.Adam(0.001),\n",
        "             metrics = ['accuracy'])\n",
        "\n",
        "model.summary()"
      ],
      "execution_count": 33,
      "outputs": [
        {
          "output_type": "stream",
          "text": [
            "Using TensorFlow backend.\n"
          ],
          "name": "stderr"
        },
        {
          "output_type": "stream",
          "text": [
            "WARNING:tensorflow:From /usr/local/lib/python3.6/dist-packages/tensorflow/python/framework/op_def_library.py:263: colocate_with (from tensorflow.python.framework.ops) is deprecated and will be removed in a future version.\n",
            "Instructions for updating:\n",
            "Colocations handled automatically by placer.\n",
            "_________________________________________________________________\n",
            "Layer (type)                 Output Shape              Param #   \n",
            "=================================================================\n",
            "inception_v3 (Model)         (None, 2, 2, 2048)        21802784  \n",
            "_________________________________________________________________\n",
            "flatten_1 (Flatten)          (None, 8192)              0         \n",
            "_________________________________________________________________\n",
            "dense_1 (Dense)              (None, 256)               2097408   \n",
            "_________________________________________________________________\n",
            "dense_2 (Dense)              (None, 22)                5654      \n",
            "=================================================================\n",
            "Total params: 23,905,846\n",
            "Trainable params: 23,871,414\n",
            "Non-trainable params: 34,432\n",
            "_________________________________________________________________\n"
          ],
          "name": "stdout"
        }
      ]
    },
    {
      "metadata": {
        "id": "ynnI-wxrCmt2",
        "colab_type": "code",
        "colab": {}
      },
      "cell_type": "code",
      "source": [
        "# Grabbed this part code from Github repo\n",
        "# This is custom designed Data Generator by extending Sequence of Keras.utils\n",
        "\n",
        "from keras.utils import Sequence\n",
        "from keras.preprocessing.image import load_img, img_to_array, array_to_img\n",
        "from skimage.transform import resize\n",
        "\n",
        "class ImageGen(Sequence):\n",
        "    \n",
        "    def __init__(self, imgs, y, target_size=(224, 224), save_format='jpg',\n",
        "                 batch_size=32, shuffle=True,preprocess_fn=None, seed=None,\n",
        "                 dtype='float32', save_prefix='', save_to_dir=False):\n",
        "        \n",
        "        self.imgs = np.array(imgs)\n",
        "        self.y = np.array(y)\n",
        "        self.batch_size = batch_size\n",
        "        self.target_size = target_size\n",
        "        self.image_shape = target_size + (3,)\n",
        "        self.shuffle = shuffle\n",
        "        self.preprocess_fn = preprocess_fn\n",
        "        self.seed = seed\n",
        "        self.dtype = dtype\n",
        "        self.total_batches_seen = 0\n",
        "        self.save_to_dir = save_to_dir\n",
        "        self.save_prefix = save_prefix\n",
        "        self.save_format = save_format\n",
        "        self.on_epoch_end()\n",
        "    \n",
        "    def __len__(self):\n",
        "        return int(np.ceil(len(self.imgs) / float(self.batch_size)))\n",
        "    \n",
        "    def on_epoch_end(self):\n",
        "        self.total_batches_seen += 1\n",
        "        self.indexes = np.arange(len(self.imgs))\n",
        "        if self.shuffle:\n",
        "            if self.seed is not None:\n",
        "                np.random.seed(self.seed + self.total_batches_seen)\n",
        "            np.random.shuffle(self.indexes)\n",
        "    \n",
        "\n",
        "\n",
        "    def __getitem__(self, batch_index):\n",
        "        index_array = self.indexes[batch_index*self.batch_size:(batch_index + 1)*self.batch_size]\n",
        "        batch_x = np.zeros(\n",
        "            (len(index_array),) + self.image_shape,\n",
        "            dtype=self.dtype)\n",
        "        # build batch of image data\n",
        "        for i, index in enumerate(index_array):\n",
        "            img_path = self.imgs[index]\n",
        "            img = load_img(img_path, target_size=self.target_size)\n",
        "            img = img_to_array(img.convert('RGB'))\n",
        "            batch_x[i] = self.preprocess_fn(img)\n",
        "\n",
        "#         batch_x = self.aug.augment_images(batch_x)\n",
        "\n",
        "        if self.save_to_dir:\n",
        "            img_paths = self.imgs[index_array]\n",
        "            for i in range(len(batch_x)):\n",
        "                img = array_to_img(batch_x[i],scale=True)\n",
        "                fname = '{prefix}_{index}_{filename}.{format}'.format(prefix=self.save_prefix,\n",
        "                                                                    index=batch_index + i,\n",
        "                                                                    filename=os.path.basename(img_paths[i]),\n",
        "                                                                    format=self.save_format)\n",
        "                print(fname)\n",
        "                img.save(os.path.join(self.save_to_dir, fname))\n",
        "\n",
        "        # build batch of labels\n",
        "        batch_y = self.y[index_array]\n",
        "        return batch_x, batch_y\n"
      ],
      "execution_count": 0,
      "outputs": []
    },
    {
      "metadata": {
        "id": "2mTMnOE5DuFR",
        "colab_type": "code",
        "colab": {}
      },
      "cell_type": "code",
      "source": [
        "# Function to normalize the image \n",
        "# this function is used by the data generator class\n",
        "def prepro(img):\n",
        "  img = img/255.0\n",
        "  return img"
      ],
      "execution_count": 0,
      "outputs": []
    },
    {
      "metadata": {
        "id": "iZdEgShIDKjW",
        "colab_type": "code",
        "outputId": "626c274d-3567-4c53-f625-03f6d7894f8c",
        "colab": {
          "base_uri": "https://localhost:8080/",
          "height": 119
        }
      },
      "cell_type": "code",
      "source": [
        "# Creating a new column and assigning it the image paths\n",
        "# using image_id as key value\n",
        "\n",
        "df[\"abs_name\" ] = df.image_id.apply(lambda x: \"./drive/Train_Celeb_Images/\" + x)"
      ],
      "execution_count": 36,
      "outputs": [
        {
          "output_type": "stream",
          "text": [
            "/usr/local/lib/python3.6/dist-packages/ipykernel_launcher.py:1: SettingWithCopyWarning: \n",
            "A value is trying to be set on a copy of a slice from a DataFrame.\n",
            "Try using .loc[row_indexer,col_indexer] = value instead\n",
            "\n",
            "See the caveats in the documentation: http://pandas.pydata.org/pandas-docs/stable/indexing.html#indexing-view-versus-copy\n",
            "  \"\"\"Entry point for launching an IPython kernel.\n"
          ],
          "name": "stderr"
        }
      ]
    },
    {
      "metadata": {
        "id": "upm3HFdUC_Ky",
        "colab_type": "code",
        "outputId": "94a3eef0-c9ce-4d33-eaa7-a6e6b34a7183",
        "colab": {
          "base_uri": "https://localhost:8080/",
          "height": 160
        }
      },
      "cell_type": "code",
      "source": [
        "# checking the dataframe whether new column is added\n",
        "df.head(2)"
      ],
      "execution_count": 37,
      "outputs": [
        {
          "output_type": "execute_result",
          "data": {
            "text/html": [
              "<div>\n",
              "<style scoped>\n",
              "    .dataframe tbody tr th:only-of-type {\n",
              "        vertical-align: middle;\n",
              "    }\n",
              "\n",
              "    .dataframe tbody tr th {\n",
              "        vertical-align: top;\n",
              "    }\n",
              "\n",
              "    .dataframe thead th {\n",
              "        text-align: right;\n",
              "    }\n",
              "</style>\n",
              "<table border=\"1\" class=\"dataframe\">\n",
              "  <thead>\n",
              "    <tr style=\"text-align: right;\">\n",
              "      <th></th>\n",
              "      <th>image_id</th>\n",
              "      <th>Arched_Eyebrows</th>\n",
              "      <th>Bags_Under_Eyes</th>\n",
              "      <th>Bangs</th>\n",
              "      <th>Big_Lips</th>\n",
              "      <th>Big_Nose</th>\n",
              "      <th>Black_Hair</th>\n",
              "      <th>Blond_Hair</th>\n",
              "      <th>Bushy_Eyebrows</th>\n",
              "      <th>Male</th>\n",
              "      <th>...</th>\n",
              "      <th>Wearing_Lipstick</th>\n",
              "      <th>MF_1</th>\n",
              "      <th>MF_2</th>\n",
              "      <th>MF_3</th>\n",
              "      <th>MF_4</th>\n",
              "      <th>MF_5</th>\n",
              "      <th>MF_6</th>\n",
              "      <th>MF_7</th>\n",
              "      <th>MF_8</th>\n",
              "      <th>abs_name</th>\n",
              "    </tr>\n",
              "  </thead>\n",
              "  <tbody>\n",
              "    <tr>\n",
              "      <th>0</th>\n",
              "      <td>069568.jpg</td>\n",
              "      <td>0</td>\n",
              "      <td>0</td>\n",
              "      <td>0</td>\n",
              "      <td>0</td>\n",
              "      <td>1</td>\n",
              "      <td>0</td>\n",
              "      <td>0</td>\n",
              "      <td>0</td>\n",
              "      <td>1</td>\n",
              "      <td>...</td>\n",
              "      <td>0</td>\n",
              "      <td>0</td>\n",
              "      <td>1</td>\n",
              "      <td>0</td>\n",
              "      <td>0</td>\n",
              "      <td>0</td>\n",
              "      <td>0</td>\n",
              "      <td>0</td>\n",
              "      <td>0</td>\n",
              "      <td>./drive/Train_Celeb_Images/069568.jpg</td>\n",
              "    </tr>\n",
              "    <tr>\n",
              "      <th>5</th>\n",
              "      <td>036097.jpg</td>\n",
              "      <td>0</td>\n",
              "      <td>1</td>\n",
              "      <td>1</td>\n",
              "      <td>0</td>\n",
              "      <td>0</td>\n",
              "      <td>0</td>\n",
              "      <td>0</td>\n",
              "      <td>0</td>\n",
              "      <td>0</td>\n",
              "      <td>...</td>\n",
              "      <td>1</td>\n",
              "      <td>1</td>\n",
              "      <td>0</td>\n",
              "      <td>0</td>\n",
              "      <td>1</td>\n",
              "      <td>0</td>\n",
              "      <td>1</td>\n",
              "      <td>1</td>\n",
              "      <td>1</td>\n",
              "      <td>./drive/Train_Celeb_Images/036097.jpg</td>\n",
              "    </tr>\n",
              "  </tbody>\n",
              "</table>\n",
              "<p>2 rows × 24 columns</p>\n",
              "</div>"
            ],
            "text/plain": [
              "     image_id  Arched_Eyebrows  Bags_Under_Eyes  Bangs  Big_Lips  Big_Nose  \\\n",
              "0  069568.jpg                0                0      0         0         1   \n",
              "5  036097.jpg                0                1      1         0         0   \n",
              "\n",
              "   Black_Hair  Blond_Hair  Bushy_Eyebrows  Male  \\\n",
              "0           0           0               0     1   \n",
              "5           0           0               0     0   \n",
              "\n",
              "                   ...                    Wearing_Lipstick  MF_1  MF_2  MF_3  \\\n",
              "0                  ...                                   0     0     1     0   \n",
              "5                  ...                                   1     1     0     0   \n",
              "\n",
              "   MF_4  MF_5  MF_6  MF_7  MF_8                               abs_name  \n",
              "0     0     0     0     0     0  ./drive/Train_Celeb_Images/069568.jpg  \n",
              "5     1     0     1     1     1  ./drive/Train_Celeb_Images/036097.jpg  \n",
              "\n",
              "[2 rows x 24 columns]"
            ]
          },
          "metadata": {
            "tags": []
          },
          "execution_count": 37
        }
      ]
    },
    {
      "metadata": {
        "id": "xpuEVg8GDks5",
        "colab_type": "code",
        "colab": {}
      },
      "cell_type": "code",
      "source": [
        "# all the different columns which are considered as classes are stored into a list\n",
        "\n",
        "labels = ['Arched_Eyebrows', 'Bags_Under_Eyes', 'Bangs', 'Big_Lips', 'Big_Nose',\n",
        "       'Black_Hair', 'Blond_Hair', 'Bushy_Eyebrows', 'Male', 'No_Beard',\n",
        "       'Oval_Face', 'Straight_Hair', 'Wearing_Earrings', 'Wearing_Lipstick',\n",
        "       'MF_1', 'MF_2', 'MF_3', 'MF_4', 'MF_5', 'MF_6', 'MF_7', 'MF_8']"
      ],
      "execution_count": 0,
      "outputs": []
    },
    {
      "metadata": {
        "id": "WVoFCN2wF9Cl",
        "colab_type": "code",
        "colab": {}
      },
      "cell_type": "code",
      "source": [
        "# Splitting the finalized data frame of 21080 values into Train \n",
        "# and Validation \n",
        "\n",
        "tr_df = df.head(2080)\n",
        "val_df = df.tail(1000)"
      ],
      "execution_count": 0,
      "outputs": []
    },
    {
      "metadata": {
        "id": "xmGXM1UgD1YC",
        "colab_type": "code",
        "colab": {}
      },
      "cell_type": "code",
      "source": [
        "# Creating data generators for train and validation\n",
        "\n",
        "train_gen = ImageGen(tr_df.abs_name, tr_df[labels], target_size=(128,128), preprocess_fn=prepro)\n",
        "valid_gen = ImageGen(val_df.abs_name, val_df[labels], target_size=(128,128), preprocess_fn=prepro)"
      ],
      "execution_count": 0,
      "outputs": []
    },
    {
      "metadata": {
        "id": "rAIATFD3EAX5",
        "colab_type": "code",
        "outputId": "f1d3cc3b-78c2-436a-e6e6-0f16f17e1932",
        "colab": {
          "base_uri": "https://localhost:8080/",
          "height": 5780
        }
      },
      "cell_type": "code",
      "source": [
        "# this cell is run to make sure the generator is iterable \n",
        "\n",
        "next(iter(train_gen))"
      ],
      "execution_count": 41,
      "outputs": [
        {
          "output_type": "execute_result",
          "data": {
            "text/plain": [
              "(array([[[[0.01568628, 0.03137255, 0.02745098],\n",
              "          [0.01568628, 0.03137255, 0.02745098],\n",
              "          [0.01176471, 0.02745098, 0.02352941],\n",
              "          ...,\n",
              "          [0.        , 0.01568628, 0.01176471],\n",
              "          [0.        , 0.01568628, 0.01176471],\n",
              "          [0.00392157, 0.01960784, 0.01568628]],\n",
              " \n",
              "         [[0.01568628, 0.03137255, 0.02745098],\n",
              "          [0.01568628, 0.03137255, 0.02745098],\n",
              "          [0.01176471, 0.02745098, 0.02352941],\n",
              "          ...,\n",
              "          [0.        , 0.01568628, 0.01176471],\n",
              "          [0.        , 0.01568628, 0.01176471],\n",
              "          [0.00392157, 0.01960784, 0.01568628]],\n",
              " \n",
              "         [[0.01568628, 0.03137255, 0.02745098],\n",
              "          [0.01568628, 0.03137255, 0.02745098],\n",
              "          [0.01176471, 0.02745098, 0.02352941],\n",
              "          ...,\n",
              "          [0.        , 0.01568628, 0.01176471],\n",
              "          [0.        , 0.01568628, 0.01176471],\n",
              "          [0.        , 0.01568628, 0.01176471]],\n",
              " \n",
              "         ...,\n",
              " \n",
              "         [[0.79607844, 0.56078434, 0.41960785],\n",
              "          [0.8039216 , 0.5686275 , 0.42745098],\n",
              "          [0.8117647 , 0.5764706 , 0.43529412],\n",
              "          ...,\n",
              "          [0.9254902 , 0.7372549 , 0.5882353 ],\n",
              "          [0.90588236, 0.7176471 , 0.5686275 ],\n",
              "          [0.90588236, 0.69803923, 0.5411765 ]],\n",
              " \n",
              "         [[0.8       , 0.5529412 , 0.42352942],\n",
              "          [0.7882353 , 0.5411765 , 0.4117647 ],\n",
              "          [0.78431374, 0.5372549 , 0.40784314],\n",
              "          ...,\n",
              "          [0.90588236, 0.7137255 , 0.5568628 ],\n",
              "          [0.8862745 , 0.6901961 , 0.54509807],\n",
              "          [0.88235295, 0.654902  , 0.50980395]],\n",
              " \n",
              "         [[0.7294118 , 0.48235294, 0.3529412 ],\n",
              "          [0.7764706 , 0.5294118 , 0.4       ],\n",
              "          [0.78039217, 0.53333336, 0.40392157],\n",
              "          ...,\n",
              "          [0.8627451 , 0.67058825, 0.5137255 ],\n",
              "          [0.84705883, 0.654902  , 0.49803922],\n",
              "          [0.84313726, 0.60784316, 0.46666667]]],\n",
              " \n",
              " \n",
              "        [[[0.99607843, 1.        , 1.        ],\n",
              "          [0.99607843, 1.        , 1.        ],\n",
              "          [0.99607843, 1.        , 1.        ],\n",
              "          ...,\n",
              "          [1.        , 1.        , 1.        ],\n",
              "          [1.        , 1.        , 1.        ],\n",
              "          [1.        , 1.        , 1.        ]],\n",
              " \n",
              "         [[0.99607843, 1.        , 1.        ],\n",
              "          [0.99607843, 1.        , 1.        ],\n",
              "          [0.99607843, 1.        , 1.        ],\n",
              "          ...,\n",
              "          [1.        , 1.        , 1.        ],\n",
              "          [1.        , 1.        , 1.        ],\n",
              "          [1.        , 1.        , 1.        ]],\n",
              " \n",
              "         [[0.99607843, 1.        , 1.        ],\n",
              "          [0.99607843, 1.        , 1.        ],\n",
              "          [0.99607843, 1.        , 1.        ],\n",
              "          ...,\n",
              "          [1.        , 1.        , 1.        ],\n",
              "          [1.        , 1.        , 1.        ],\n",
              "          [1.        , 1.        , 1.        ]],\n",
              " \n",
              "         ...,\n",
              " \n",
              "         [[0.21176471, 0.19215687, 0.1764706 ],\n",
              "          [0.21176471, 0.19215687, 0.1764706 ],\n",
              "          [0.21176471, 0.19215687, 0.1764706 ],\n",
              "          ...,\n",
              "          [0.92941177, 0.93333334, 0.9411765 ],\n",
              "          [0.9411765 , 0.94509804, 0.9529412 ],\n",
              "          [0.9490196 , 0.9490196 , 0.9490196 ]],\n",
              " \n",
              "         [[0.21176471, 0.19215687, 0.1764706 ],\n",
              "          [0.21176471, 0.19215687, 0.1764706 ],\n",
              "          [0.21568628, 0.19607843, 0.18039216],\n",
              "          ...,\n",
              "          [0.92941177, 0.93333334, 0.9411765 ],\n",
              "          [0.9372549 , 0.9411765 , 0.9490196 ],\n",
              "          [0.9490196 , 0.9490196 , 0.9490196 ]],\n",
              " \n",
              "         [[0.21568628, 0.19607843, 0.18039216],\n",
              "          [0.21568628, 0.19607843, 0.18039216],\n",
              "          [0.21568628, 0.19607843, 0.18039216],\n",
              "          ...,\n",
              "          [0.92156863, 0.9254902 , 0.93333334],\n",
              "          [0.92941177, 0.93333334, 0.9411765 ],\n",
              "          [0.9490196 , 0.9490196 , 0.9490196 ]]],\n",
              " \n",
              " \n",
              "        [[[0.00392157, 0.        , 0.        ],\n",
              "          [0.01568628, 0.        , 0.        ],\n",
              "          [0.02745098, 0.        , 0.        ],\n",
              "          ...,\n",
              "          [0.        , 0.00392157, 0.        ],\n",
              "          [0.        , 0.00392157, 0.        ],\n",
              "          [0.01568628, 0.        , 0.00392157]],\n",
              " \n",
              "         [[0.05882353, 0.04313726, 0.03137255],\n",
              "          [0.05490196, 0.02352941, 0.01568628],\n",
              "          [0.0627451 , 0.01960784, 0.01176471],\n",
              "          ...,\n",
              "          [0.        , 0.00392157, 0.        ],\n",
              "          [0.        , 0.00392157, 0.        ],\n",
              "          [0.01568628, 0.        , 0.00392157]],\n",
              " \n",
              "         [[0.11372549, 0.07450981, 0.06666667],\n",
              "          [0.09803922, 0.04313726, 0.03137255],\n",
              "          [0.10588235, 0.03529412, 0.01960784],\n",
              "          ...,\n",
              "          [0.        , 0.00392157, 0.        ],\n",
              "          [0.        , 0.00392157, 0.        ],\n",
              "          [0.01568628, 0.        , 0.00392157]],\n",
              " \n",
              "         ...,\n",
              " \n",
              "         [[0.07450981, 0.0627451 , 0.14509805],\n",
              "          [0.07450981, 0.0627451 , 0.14509805],\n",
              "          [0.07450981, 0.0627451 , 0.14509805],\n",
              "          ...,\n",
              "          [0.18431373, 0.14901961, 0.12941177],\n",
              "          [0.20392157, 0.16862746, 0.14901961],\n",
              "          [0.12156863, 0.09019608, 0.07843138]],\n",
              " \n",
              "         [[0.07058824, 0.05882353, 0.14117648],\n",
              "          [0.07058824, 0.05882353, 0.14117648],\n",
              "          [0.07058824, 0.05882353, 0.14117648],\n",
              "          ...,\n",
              "          [0.19607843, 0.15686275, 0.16078432],\n",
              "          [0.18039216, 0.14117648, 0.14509805],\n",
              "          [0.15686275, 0.12156863, 0.09411765]],\n",
              " \n",
              "         [[0.07450981, 0.0627451 , 0.14509805],\n",
              "          [0.07450981, 0.0627451 , 0.14509805],\n",
              "          [0.07843138, 0.06666667, 0.14901961],\n",
              "          ...,\n",
              "          [0.24313726, 0.2       , 0.22352941],\n",
              "          [0.24705882, 0.20392157, 0.22745098],\n",
              "          [0.34901962, 0.29803923, 0.26666668]]],\n",
              " \n",
              " \n",
              "        ...,\n",
              " \n",
              " \n",
              "        [[[0.99607843, 0.99607843, 0.99607843],\n",
              "          [0.99607843, 0.99607843, 0.99607843],\n",
              "          [0.99607843, 0.99607843, 0.99607843],\n",
              "          ...,\n",
              "          [1.        , 0.99215686, 0.99607843],\n",
              "          [1.        , 0.99215686, 0.99607843],\n",
              "          [0.99607843, 0.99607843, 0.99607843]],\n",
              " \n",
              "         [[0.99607843, 0.99607843, 0.99607843],\n",
              "          [0.99607843, 0.99607843, 0.99607843],\n",
              "          [0.99607843, 0.99607843, 0.99607843],\n",
              "          ...,\n",
              "          [1.        , 0.99215686, 0.99607843],\n",
              "          [1.        , 0.99215686, 0.99607843],\n",
              "          [0.99607843, 0.99607843, 0.99607843]],\n",
              " \n",
              "         [[0.99607843, 0.99607843, 0.99607843],\n",
              "          [0.99607843, 0.99607843, 0.99607843],\n",
              "          [0.99607843, 0.99607843, 0.99607843],\n",
              "          ...,\n",
              "          [1.        , 0.99215686, 0.99607843],\n",
              "          [1.        , 0.99215686, 0.99607843],\n",
              "          [0.99607843, 0.99607843, 0.99607843]],\n",
              " \n",
              "         ...,\n",
              " \n",
              "         [[0.43529412, 0.42745098, 0.47843137],\n",
              "          [0.41960785, 0.4117647 , 0.4627451 ],\n",
              "          [0.41568628, 0.40784314, 0.45882353],\n",
              "          ...,\n",
              "          [0.27450982, 0.25882354, 0.31764707],\n",
              "          [0.27450982, 0.25882354, 0.31764707],\n",
              "          [0.27450982, 0.26666668, 0.32156864]],\n",
              " \n",
              "         [[0.3882353 , 0.3764706 , 0.4509804 ],\n",
              "          [0.38039216, 0.36862746, 0.44313726],\n",
              "          [0.3882353 , 0.3764706 , 0.4509804 ],\n",
              "          ...,\n",
              "          [0.26666668, 0.2509804 , 0.30980393],\n",
              "          [0.26666668, 0.2509804 , 0.30980393],\n",
              "          [0.26666668, 0.25882354, 0.3137255 ]],\n",
              " \n",
              "         [[0.3764706 , 0.36078432, 0.4509804 ],\n",
              "          [0.37254903, 0.35686275, 0.44705883],\n",
              "          [0.36862746, 0.3529412 , 0.44313726],\n",
              "          ...,\n",
              "          [0.25882354, 0.24313726, 0.3019608 ],\n",
              "          [0.25490198, 0.23921569, 0.29803923],\n",
              "          [0.25882354, 0.2509804 , 0.30588236]]],\n",
              " \n",
              " \n",
              "        [[[0.972549  , 0.84313726, 0.63529414],\n",
              "          [0.96862745, 0.8392157 , 0.6313726 ],\n",
              "          [0.9647059 , 0.8352941 , 0.627451  ],\n",
              "          ...,\n",
              "          [0.9607843 , 0.6392157 , 0.45490196],\n",
              "          [0.9607843 , 0.6392157 , 0.45490196],\n",
              "          [0.9764706 , 0.6509804 , 0.45490196]],\n",
              " \n",
              "         [[0.9843137 , 0.8666667 , 0.654902  ],\n",
              "          [0.972549  , 0.85490197, 0.6431373 ],\n",
              "          [0.9647059 , 0.84705883, 0.6431373 ],\n",
              "          ...,\n",
              "          [0.9607843 , 0.6392157 , 0.45490196],\n",
              "          [0.9647059 , 0.6431373 , 0.45882353],\n",
              "          [0.9764706 , 0.6509804 , 0.45490196]],\n",
              " \n",
              "         [[1.        , 0.91764706, 0.7019608 ],\n",
              "          [0.99607843, 0.90588236, 0.69411767],\n",
              "          [0.9882353 , 0.8980392 , 0.69411767],\n",
              "          ...,\n",
              "          [0.96862745, 0.6392157 , 0.45882353],\n",
              "          [0.9647059 , 0.6431373 , 0.45882353],\n",
              "          [0.98039216, 0.654902  , 0.45882353]],\n",
              " \n",
              "         ...,\n",
              " \n",
              "         [[0.13725491, 0.14509805, 0.22745098],\n",
              "          [0.12941177, 0.14117648, 0.21568628],\n",
              "          [0.1254902 , 0.13725491, 0.21176471],\n",
              "          ...,\n",
              "          [0.60784316, 0.49411765, 0.36862746],\n",
              "          [0.5921569 , 0.47843137, 0.3529412 ],\n",
              "          [0.63529414, 0.5294118 , 0.41568628]],\n",
              " \n",
              "         [[0.13725491, 0.14509805, 0.22745098],\n",
              "          [0.12941177, 0.14117648, 0.21568628],\n",
              "          [0.1254902 , 0.13725491, 0.21176471],\n",
              "          ...,\n",
              "          [0.56078434, 0.43137255, 0.30980393],\n",
              "          [0.5568628 , 0.42745098, 0.30588236],\n",
              "          [0.5529412 , 0.4392157 , 0.32156864]],\n",
              " \n",
              "         [[0.12941177, 0.13725491, 0.21960784],\n",
              "          [0.12941177, 0.14117648, 0.21568628],\n",
              "          [0.13725491, 0.14901961, 0.22352941],\n",
              "          ...,\n",
              "          [0.63529414, 0.49411765, 0.36862746],\n",
              "          [0.6117647 , 0.4745098 , 0.34901962],\n",
              "          [0.59607846, 0.48235294, 0.35686275]]],\n",
              " \n",
              " \n",
              "        [[[0.5058824 , 0.4392157 , 0.3372549 ],\n",
              "          [0.5058824 , 0.4392157 , 0.3372549 ],\n",
              "          [0.5019608 , 0.43529412, 0.33333334],\n",
              "          ...,\n",
              "          [0.54509807, 0.46666667, 0.36862746],\n",
              "          [0.54509807, 0.46666667, 0.36862746],\n",
              "          [0.5529412 , 0.4745098 , 0.3764706 ]],\n",
              " \n",
              "         [[0.5058824 , 0.4392157 , 0.3372549 ],\n",
              "          [0.5058824 , 0.4392157 , 0.3372549 ],\n",
              "          [0.5019608 , 0.43529412, 0.33333334],\n",
              "          ...,\n",
              "          [0.54509807, 0.46666667, 0.36862746],\n",
              "          [0.54509807, 0.46666667, 0.36862746],\n",
              "          [0.5529412 , 0.4745098 , 0.3764706 ]],\n",
              " \n",
              "         [[0.5058824 , 0.4392157 , 0.3372549 ],\n",
              "          [0.5058824 , 0.4392157 , 0.3372549 ],\n",
              "          [0.5019608 , 0.43529412, 0.33333334],\n",
              "          ...,\n",
              "          [0.54509807, 0.46666667, 0.36862746],\n",
              "          [0.54509807, 0.46666667, 0.36862746],\n",
              "          [0.5529412 , 0.4745098 , 0.3764706 ]],\n",
              " \n",
              "         ...,\n",
              " \n",
              "         [[0.15294118, 0.11372549, 0.07450981],\n",
              "          [0.12156863, 0.08235294, 0.04313726],\n",
              "          [0.13725491, 0.09803922, 0.05882353],\n",
              "          ...,\n",
              "          [0.1254902 , 0.08627451, 0.05098039],\n",
              "          [0.11372549, 0.07450981, 0.03921569],\n",
              "          [0.05882353, 0.01960784, 0.02352941]],\n",
              " \n",
              "         [[0.15294118, 0.11372549, 0.07450981],\n",
              "          [0.12941177, 0.09019608, 0.05098039],\n",
              "          [0.14509805, 0.10588235, 0.06666667],\n",
              "          ...,\n",
              "          [0.21960784, 0.18039216, 0.14117648],\n",
              "          [0.19607843, 0.15686275, 0.11764706],\n",
              "          [0.13725491, 0.09803922, 0.09019608]],\n",
              " \n",
              "         [[0.15686275, 0.11764706, 0.07843138],\n",
              "          [0.12941177, 0.09019608, 0.05098039],\n",
              "          [0.12941177, 0.09019608, 0.05098039],\n",
              "          ...,\n",
              "          [0.25490198, 0.21960784, 0.16078432],\n",
              "          [0.25882354, 0.22352941, 0.16470589],\n",
              "          [0.21568628, 0.18431373, 0.13333334]]]], dtype=float32),\n",
              " array([[0, 0, 0, 0, 0, 0, 0, 0, 1, 0, 1, 0, 0, 0, 1, 0, 0, 1, 0, 0, 0, 0],\n",
              "        [0, 0, 0, 0, 1, 0, 0, 0, 1, 0, 0, 0, 0, 0, 1, 1, 0, 0, 1, 0, 1, 1],\n",
              "        [0, 0, 0, 0, 0, 0, 0, 0, 0, 1, 0, 0, 1, 0, 0, 1, 1, 0, 0, 0, 0, 0],\n",
              "        [0, 0, 0, 0, 0, 0, 1, 1, 1, 0, 1, 1, 0, 0, 0, 1, 0, 1, 0, 0, 1, 0],\n",
              "        [0, 1, 0, 0, 0, 0, 0, 0, 0, 1, 0, 0, 0, 1, 0, 1, 0, 0, 1, 0, 0, 1],\n",
              "        [0, 0, 0, 0, 0, 0, 0, 0, 0, 1, 1, 0, 1, 1, 1, 1, 1, 1, 1, 1, 1, 0],\n",
              "        [0, 0, 0, 0, 0, 1, 0, 0, 0, 1, 0, 0, 0, 0, 0, 1, 0, 0, 0, 0, 0, 0],\n",
              "        [0, 0, 0, 0, 0, 0, 0, 0, 0, 1, 0, 0, 0, 1, 0, 1, 1, 1, 1, 1, 1, 1],\n",
              "        [0, 0, 1, 0, 0, 0, 0, 0, 0, 1, 0, 0, 0, 1, 0, 1, 0, 0, 1, 0, 0, 1],\n",
              "        [0, 0, 1, 0, 0, 0, 1, 0, 0, 1, 0, 0, 0, 1, 0, 0, 0, 0, 0, 1, 1, 1],\n",
              "        [0, 0, 1, 1, 0, 0, 1, 0, 1, 1, 0, 0, 0, 0, 0, 1, 0, 0, 1, 0, 1, 1],\n",
              "        [1, 0, 1, 1, 0, 0, 1, 0, 0, 1, 1, 0, 0, 1, 1, 1, 0, 1, 0, 1, 1, 1],\n",
              "        [0, 1, 0, 0, 1, 0, 0, 1, 1, 1, 0, 1, 0, 0, 1, 0, 0, 1, 0, 0, 0, 0],\n",
              "        [0, 0, 0, 0, 0, 1, 0, 0, 1, 0, 0, 1, 0, 0, 0, 1, 0, 1, 0, 0, 0, 0],\n",
              "        [0, 0, 0, 0, 0, 0, 0, 0, 1, 1, 0, 0, 0, 0, 0, 1, 0, 0, 0, 0, 0, 0],\n",
              "        [0, 0, 0, 0, 0, 0, 1, 0, 0, 1, 0, 1, 1, 1, 0, 1, 1, 0, 0, 1, 1, 0],\n",
              "        [0, 0, 0, 0, 0, 1, 0, 0, 0, 1, 0, 1, 0, 0, 0, 1, 0, 0, 0, 0, 0, 0],\n",
              "        [0, 0, 1, 1, 0, 0, 1, 0, 0, 1, 0, 0, 0, 1, 1, 0, 0, 1, 0, 1, 0, 0],\n",
              "        [0, 1, 0, 0, 0, 1, 0, 1, 1, 0, 0, 0, 0, 0, 0, 1, 0, 0, 0, 0, 1, 0],\n",
              "        [0, 0, 1, 0, 0, 0, 0, 0, 0, 1, 0, 0, 0, 1, 0, 1, 0, 0, 0, 1, 1, 1],\n",
              "        [0, 1, 0, 0, 0, 0, 0, 0, 0, 1, 0, 0, 0, 0, 0, 1, 0, 0, 0, 0, 0, 0],\n",
              "        [0, 0, 0, 0, 0, 0, 1, 0, 0, 1, 1, 1, 0, 1, 0, 1, 1, 1, 0, 1, 1, 0],\n",
              "        [1, 0, 0, 0, 0, 0, 0, 0, 0, 1, 0, 0, 0, 0, 0, 1, 0, 0, 0, 0, 1, 0],\n",
              "        [0, 0, 0, 0, 0, 0, 0, 0, 1, 1, 0, 0, 0, 0, 1, 1, 1, 1, 1, 0, 0, 0],\n",
              "        [0, 0, 0, 0, 0, 1, 0, 0, 1, 1, 0, 0, 0, 0, 0, 1, 1, 0, 0, 0, 0, 0],\n",
              "        [1, 0, 0, 0, 0, 0, 1, 0, 0, 1, 0, 1, 0, 1, 0, 1, 1, 0, 0, 1, 1, 0],\n",
              "        [0, 1, 0, 0, 1, 0, 0, 0, 1, 0, 0, 0, 0, 0, 0, 0, 0, 1, 0, 0, 0, 0],\n",
              "        [0, 0, 0, 0, 0, 0, 0, 0, 1, 1, 1, 0, 0, 0, 1, 1, 0, 1, 0, 0, 0, 0],\n",
              "        [0, 0, 0, 0, 0, 1, 0, 0, 1, 1, 0, 1, 0, 0, 0, 1, 1, 0, 0, 0, 1, 0],\n",
              "        [1, 0, 0, 1, 0, 1, 0, 1, 1, 1, 0, 1, 0, 0, 0, 1, 0, 0, 0, 0, 0, 0],\n",
              "        [0, 1, 0, 0, 0, 0, 0, 0, 1, 1, 0, 0, 0, 0, 1, 1, 0, 1, 0, 0, 0, 0],\n",
              "        [0, 0, 0, 1, 0, 0, 0, 1, 1, 0, 0, 0, 0, 0, 0, 1, 1, 0, 1, 0, 0, 1]]))"
            ]
          },
          "metadata": {
            "tags": []
          },
          "execution_count": 41
        }
      ]
    },
    {
      "metadata": {
        "id": "4F3uzuwQFPfo",
        "colab_type": "code",
        "colab": {}
      },
      "cell_type": "code",
      "source": [
        "\n",
        "next(iter(valid_gen))"
      ],
      "execution_count": 0,
      "outputs": []
    },
    {
      "metadata": {
        "id": "vAgP0JCJN9B5",
        "colab_type": "code",
        "colab": {}
      },
      "cell_type": "code",
      "source": [
        "# Checkpointing is setup to save the network weights \n",
        "# The model weights are written to the file “weights.best_v1.hdf5”\n",
        "\n",
        "from keras.callbacks import ModelCheckpoint\n",
        "\n",
        "filepath = \"./drive/Colab Notebooks/final/data/weights_best_v1.hdf5\"\n",
        "chkpnt = ModelCheckpoint(filepath, monitor='val_acc', verbose=1, save_best_only=True, mode='max')\n",
        "callbacks_list = [chkpnt]\n",
        "\n"
      ],
      "execution_count": 0,
      "outputs": []
    },
    {
      "metadata": {
        "id": "NcuQh_M9EBmd",
        "colab_type": "code",
        "outputId": "d94a3462-3bfd-488b-c2ce-61686daecb87",
        "colab": {
          "base_uri": "https://localhost:8080/",
          "height": 1037
        }
      },
      "cell_type": "code",
      "source": [
        "# Fitting the model with train and validation generators\n",
        "# steps per epoch is actually 659 but considered 250 due to time constraints\n",
        "# Also epochs\n",
        "\n",
        "history = model.fit_generator(train_gen, epochs = 15, steps_per_epoch=250, callbacks = callbacks_list, validation_data = valid_gen, validation_steps=32 )"
      ],
      "execution_count": 47,
      "outputs": [
        {
          "output_type": "stream",
          "text": [
            "Epoch 1/15\n",
            "250/250 [==============================] - 1496s 6s/step - loss: 0.6183 - acc: 0.7262 - val_loss: 0.5709 - val_acc: 0.7282\n",
            "\n",
            "Epoch 00001: val_acc improved from -inf to 0.72823, saving model to ./drive/Colab Notebooks/final/data/weights_best_v1.hdf5\n",
            "Epoch 2/15\n",
            "250/250 [==============================] - 3077s 12s/step - loss: 0.5135 - acc: 0.7586 - val_loss: 0.5442 - val_acc: 0.7415\n",
            "\n",
            "Epoch 00002: val_acc improved from 0.72823 to 0.74145, saving model to ./drive/Colab Notebooks/final/data/weights_best_v1.hdf5\n",
            "Epoch 3/15\n",
            "250/250 [==============================] - 261s 1s/step - loss: 0.4658 - acc: 0.7805 - val_loss: 0.6260 - val_acc: 0.7348\n",
            "\n",
            "Epoch 00003: val_acc did not improve from 0.74145\n",
            "Epoch 4/15\n",
            "250/250 [==============================] - 100s 400ms/step - loss: 0.4799 - acc: 0.7740 - val_loss: 0.6583 - val_acc: 0.7224\n",
            "\n",
            "Epoch 00004: val_acc did not improve from 0.74145\n",
            "Epoch 5/15\n",
            "250/250 [==============================] - 99s 396ms/step - loss: 0.4679 - acc: 0.7804 - val_loss: 0.5986 - val_acc: 0.7419\n",
            "\n",
            "Epoch 00005: val_acc improved from 0.74145 to 0.74191, saving model to ./drive/Colab Notebooks/final/data/weights_best_v1.hdf5\n",
            "Epoch 6/15\n",
            "250/250 [==============================] - 99s 394ms/step - loss: 0.4580 - acc: 0.7829 - val_loss: 0.5859 - val_acc: 0.7435\n",
            "\n",
            "Epoch 00006: val_acc improved from 0.74191 to 0.74355, saving model to ./drive/Colab Notebooks/final/data/weights_best_v1.hdf5\n",
            "Epoch 7/15\n",
            "250/250 [==============================] - 99s 395ms/step - loss: 0.4481 - acc: 0.7869 - val_loss: 0.5484 - val_acc: 0.7418\n",
            "\n",
            "Epoch 00007: val_acc did not improve from 0.74355\n",
            "Epoch 8/15\n",
            "250/250 [==============================] - 103s 412ms/step - loss: 0.4342 - acc: 0.7919 - val_loss: 0.4321 - val_acc: 0.7944\n",
            "\n",
            "Epoch 00008: val_acc improved from 0.74355 to 0.79441, saving model to ./drive/Colab Notebooks/final/data/weights_best_v1.hdf5\n",
            "Epoch 9/15\n",
            "250/250 [==============================] - 100s 400ms/step - loss: 0.4179 - acc: 0.8012 - val_loss: 0.6290 - val_acc: 0.7287\n",
            "\n",
            "Epoch 00009: val_acc did not improve from 0.79441\n",
            "Epoch 10/15\n",
            "250/250 [==============================] - 98s 394ms/step - loss: 0.4089 - acc: 0.8087 - val_loss: 0.4397 - val_acc: 0.8016\n",
            "\n",
            "Epoch 00010: val_acc improved from 0.79441 to 0.80164, saving model to ./drive/Colab Notebooks/final/data/weights_best_v1.hdf5\n",
            "Epoch 11/15\n",
            "250/250 [==============================] - 99s 398ms/step - loss: 0.4140 - acc: 0.8049 - val_loss: 0.5192 - val_acc: 0.7743\n",
            "\n",
            "Epoch 00011: val_acc did not improve from 0.80164\n",
            "Epoch 12/15\n",
            "250/250 [==============================] - 102s 407ms/step - loss: 0.4129 - acc: 0.8078 - val_loss: 0.4756 - val_acc: 0.7850\n",
            "\n",
            "Epoch 00012: val_acc did not improve from 0.80164\n",
            "Epoch 13/15\n",
            "250/250 [==============================] - 100s 402ms/step - loss: 0.3839 - acc: 0.8218 - val_loss: 0.6014 - val_acc: 0.7308\n",
            "\n",
            "Epoch 00013: val_acc did not improve from 0.80164\n",
            "Epoch 14/15\n",
            "250/250 [==============================] - 100s 402ms/step - loss: 0.3746 - acc: 0.8259 - val_loss: 0.5096 - val_acc: 0.7755\n",
            "\n",
            "Epoch 00014: val_acc did not improve from 0.80164\n",
            "Epoch 15/15\n",
            "250/250 [==============================] - 101s 402ms/step - loss: 0.3416 - acc: 0.8437 - val_loss: 0.4261 - val_acc: 0.8149\n",
            "\n",
            "Epoch 00015: val_acc improved from 0.80164 to 0.81486, saving model to ./drive/Colab Notebooks/final/data/weights_best_v1.hdf5\n"
          ],
          "name": "stdout"
        }
      ]
    },
    {
      "metadata": {
        "id": "0KeR-w0NICR0",
        "colab_type": "code",
        "colab": {
          "base_uri": "https://localhost:8080/",
          "height": 34
        },
        "outputId": "7897105d-ae3b-4624-9478-6fa3768f00b2"
      },
      "cell_type": "code",
      "source": [
        "print(history.history.keys())\n"
      ],
      "execution_count": 48,
      "outputs": [
        {
          "output_type": "stream",
          "text": [
            "dict_keys(['val_loss', 'val_acc', 'loss', 'acc'])\n"
          ],
          "name": "stdout"
        }
      ]
    },
    {
      "metadata": {
        "id": "i0cr1r-j8qVR",
        "colab_type": "code",
        "colab": {
          "base_uri": "https://localhost:8080/",
          "height": 376
        },
        "outputId": "762124df-48cc-47bb-b23c-fa3a771a6fd0"
      },
      "cell_type": "code",
      "source": [
        "# Summarizing  history for accuracy\n",
        "\n",
        "plt.plot(history.history['acc'])\n",
        "plt.plot(history.history['val_acc'])\n",
        "plt.title('model accuracy')\n",
        "plt.ylabel('accuracy')\n",
        "plt.xlabel('epoch')\n",
        "plt.legend(['train', 'valid'], loc='upper left')\n",
        "plt.show()"
      ],
      "execution_count": 50,
      "outputs": [
        {
          "output_type": "display_data",
          "data": {
            "image/png": "[encoded data removed]",
            "text/plain": [
              "<Figure size 576x396 with 1 Axes>"
            ]
          },
          "metadata": {
            "tags": []
          }
        }
      ]
    },
    {
      "metadata": {
        "id": "xZ--_m7FMK9k",
        "colab_type": "code",
        "colab": {}
      },
      "cell_type": "code",
      "source": [
        ""
      ],
      "execution_count": 0,
      "outputs": []
    }
  ]
}